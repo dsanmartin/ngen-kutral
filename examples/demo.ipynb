{
 "cells": [
  {
   "cell_type": "markdown",
   "metadata": {},
   "source": [
    "# Demo\n",
    "\n",
    "This notebook is a demonstration of **```ngen-kutral```** framework [1,2]. This work is based on model described in [3] also detailed in [4,5] among others."
   ]
  },
  {
   "cell_type": "code",
   "execution_count": 1,
   "metadata": {},
   "outputs": [],
   "source": [
    "import wildfire # Framework\n",
    "from demo_extras import * # Extra functions for experiments\n",
    "import ipywidgets as widgets # Interactive "
   ]
  },
  {
   "cell_type": "markdown",
   "metadata": {},
   "source": [
    "## Mathematical Model\n",
    "\n",
    "Let $u(\\mathbf{x},t)$ be the numerical value of the temperature and $\\beta(\\mathbf{x}, t)$ the amount of fuel,\n",
    "both at spatial coordinate $\\mathbf{x}=(x,y)$ and at time $t$, where $\\mathbf{x}\\in\\Omega=[x_{min},x_{max}]\\times[y_{min},y_{max}]\\subseteq\\mathbb{R}^2$ \n",
    "and $t\\in [0,t_{\\text{max}}]$. \n",
    "Let $\\mathbf{v}(\\mathbf{x},t) = \\mathbf{w}(\\mathbf{x}, t)+\\nabla T(\\mathbf{x})$ the vector field that models the effect of wind and topography, and $f(u, \\beta)$ a nonlinear heat source, then the model is defined as,\n",
    "\n",
    "\\begin{equation}\n",
    "    \\begin{array}{rcll}\n",
    "        u_t &=& \\kappa\\,\\Delta u - \\mathbf{v} \\cdot \\nabla u + f(u, \\beta), \n",
    "            & \\textrm{in} ~ \\Omega\\,\\times\\, ]0, t_{\\text{max}}], \\\\\n",
    "        \\beta_t &=& g(u, \\beta), & \\textrm{in} ~ \\Omega \\, \\times \\, ]0, t_{\\text{max}}], \\\\\n",
    "        u(\\mathbf{x}, t) &=& h_1(\\mathbf{x},t), & \\textrm{on} ~ \\Gamma \\, \\times \\, ]0, t_{\\text{max}}], \\\\\n",
    "        \\beta(\\mathbf{x}, t) &=& h_2(\\mathbf{x},t), & \\textrm{on} ~ \\Gamma \\, \\times \\, ]0, t_{\\text{max}}], \\\\\n",
    "        u(\\mathbf{x}, 0) &=& u_0(\\mathbf{x}), & \\textrm{in} ~ \\Omega, \\hfill \\\\\n",
    "        \\beta(\\mathbf{x}, 0) &=& \\beta_0(\\mathbf{x}), & \\textrm{in} ~ \\Omega,\n",
    "    \\end{array}\n",
    "    \\tag{1}\n",
    "\\end{equation}\n",
    "\n",
    "where $\\Gamma$ represents the boundary of $\\Omega$ and,\n",
    "\n",
    "\\begin{align}\n",
    "    f(u, \\beta) &= H_{pc}(u)\\beta \\exp\\left(\\frac{u}{1 + \\varepsilon u}\\right) - \\alpha u \\nonumber, \\\\ \n",
    "    g(u, \\beta) &= -H_{pc}(u)\\frac{\\varepsilon}{q}\\beta\\exp\\left(\\frac{u}{1 + \\varepsilon u}\\right) \\nonumber,\n",
    "\\end{align}\n",
    "\n",
    "with\n",
    "\n",
    "\\begin{equation}\n",
    "    H_{pc}(u) = \n",
    "    \\begin{cases}\n",
    "        1, & \\text{if} ~ u \\geq u_{pc}, \\\\\n",
    "        0, & \\text{otherwise}.\n",
    "    \\end{cases}\n",
    "    \\nonumber\n",
    "\\end{equation}\n",
    "\n",
    "In this case the gradient is defined as \n",
    "$\\nabla = \\left(\\frac{\\partial}{\\partial x}, \\frac{\\partial}{\\partial y}\\right)$\n",
    "and the Laplace operator $\\Delta = \\frac{\\partial^2}{\\partial x^2}+\\frac{\\partial^2}{\\partial y^2}$.\n",
    "This model is presented in a nondimensional form using the Frank-Kamenetskii change of variable \n",
    "detailed in [1], so the nondimensional parameters of the model $(1)$ are: diffusion coefficient $\\kappa$, the inverse of activation energy of fuel $\\varepsilon$,\n",
    "natural convection $\\alpha$, reaction heat $q$ and the phase change threshold $u_{pc}$. "
   ]
  },
  {
   "cell_type": "markdown",
   "metadata": {},
   "source": [
    "## Difference with Asension-Ferragut 2002\n",
    "\n",
    "Diffusion term used by [3] is $\\operatorname{div}(K(u)\\,\\nabla u)=\\nabla \\cdot (K(u)\\,\\nabla u)$ instead of $\\kappa\\,\\Delta u$, where $K(u)=\\bar{\\kappa}\\,(1 + \\varepsilon\\, u)^3 + 1$. The diffusion constant coefficient is assumed in works such as [4] and [5].\n",
    "Expanding $\\operatorname{div}(K(u)\\,\\nabla u)$ we have,\n",
    "\n",
    "\\begin{equation}\n",
    "    \\begin{split}\n",
    "        \\nabla \\cdot (K(u)\\,\\nabla u) &= \\left(\\frac{\\partial}{\\partial x}, \\frac{\\partial}{\\partial y}\\right)\n",
    "            \\cdot \\left(K(u)\\,\\left(\\frac{\\partial u}{\\partial x}, \\frac{\\partial u}{\\partial y}\\right)\\right)\\\\\n",
    "            &= \\left(\\frac{\\partial}{\\partial x}, \\frac{\\partial}{\\partial y}\\right)\n",
    "            \\cdot \\left(K(u)\\frac{\\partial u}{\\partial x}, K(u)\\frac{\\partial u}{\\partial y}\\right)\\\\\n",
    "            &= \\frac{\\partial}{\\partial x}\\left(K(u)\\frac{\\partial u}{\\partial x}\\right) + \n",
    "               \\frac{\\partial}{\\partial y}\\left(K(u)\\frac{\\partial u}{\\partial y}\\right) \\\\\n",
    "            &=\\frac{\\partial K(u)}{\\partial x}\\frac{\\partial u}{\\partial x} + K(u)\\frac{\\partial^2 u}{\\partial x^2} +\n",
    "              \\frac{\\partial K(u)}{\\partial y}\\frac{\\partial u}{\\partial y} + K(u)\\frac{\\partial^2 u}{\\partial y^2} \\\\\n",
    "            &= \\frac{\\partial K(u)}{\\partial u}\\frac{\\partial u}{\\partial x}\\frac{\\partial u}{\\partial x}\n",
    "                + \\frac{\\partial K(u)}{\\partial u}\\frac{\\partial u}{\\partial y}\\frac{\\partial u}{\\partial y}\n",
    "                + K(u)\\,\\left(\\frac{\\partial^2 u}{\\partial x^2} + \\frac{\\partial^2 u}{\\partial y^2}\\right) \\\\\n",
    "            &= \\frac{\\partial K(u)}{\\partial u}\\left(\\frac{\\partial u}{\\partial x}\\right)^2 \n",
    "                + \\frac{\\partial K(u)}{\\partial u}\\left(\\frac{\\partial u}{\\partial y}\\right)^2\n",
    "                + K(u)\\,\\left(\\frac{\\partial^2 u}{\\partial x^2} + \\frac{\\partial^2 u}{\\partial y^2}\\right) \\\\\n",
    "            &= \\frac{\\partial K(u)}{\\partial u}\\left(\\left(\\frac{\\partial u}{\\partial x}\\right)^2  \n",
    "                + \\left(\\frac{\\partial u}{\\partial y}\\right)^2 \\right) + K(u)\\,\\Delta u\n",
    "    \\end{split}\n",
    "\\end{equation}\n",
    "\n",
    "and $\\dfrac{\\partial K(u)}{\\partial u} = 3\\bar{\\kappa}\\varepsilon\\,(1+\\varepsilon\\,u)^2$. To use this model, set the physical parameter ```complete = True```."
   ]
  },
  {
   "cell_type": "markdown",
   "metadata": {},
   "source": [
    "## Physical and nondimensional relation\n",
    "\n",
    "### Variables\n",
    "\n",
    "* Space and time:\n",
    "\n",
    "\\begin{equation}\n",
    "    x = \\frac{\\bar{x}}{l_0}, \\quad y = \\frac{\\bar{y}}{l_0}, \\quad t=\\frac{\\bar{t}}{t_0}\n",
    "\\end{equation}\n",
    "\n",
    "* Model components:\n",
    "\n",
    "\\begin{equation}\n",
    "    u = \\frac{\\bar{u}-u_{\\infty}}{\\varepsilon u_{\\infty}}, \\quad \\beta = \\frac{\\bar{\\beta}}{\\beta_0}, \n",
    "        \\quad \\mathbf{v} = \\frac{t_0}{l_0}\\bar{\\mathbf{v}}\n",
    "\\end{equation}\n",
    "\n",
    "$l_0$ is a characteristic length, $t_0$ is characteristic time, $u_{\\infty}$ is a reference temperature and $\\beta_0$ is a reference fuel. The bar over variables indicates physical magnitude. According to [3,5] $\\beta\\in[0,1]$."
   ]
  },
  {
   "cell_type": "markdown",
   "metadata": {},
   "source": [
    "### Units\n",
    "\n",
    "|Unit of | Symbol   | Basic SI|\n",
    "|:------:|:--------:|:-------------------------------------------:|\n",
    "|Amount of substance|$\\text{mol}$||\n",
    "|Distance|$\\text{m}$||\n",
    "|Energy|$\\text{J}$|$\\dfrac{\\text{kg}\\cdot\\text{m}^2}{\\text{s}^{2}}$|\n",
    "|Mass|$\\text{kg}$||\n",
    "|Temperature|$\\text{K}$||\n",
    "|Time|$\\text{s}$||\n",
    "| Power  |$\\text{W}$|$\\dfrac{\\text{kg}\\cdot\\text{m}^2}{\\text{s}^{3}}$|\n",
    "\n",
    "\n",
    "\n",
    "### Constants\n",
    "* **Universal gas constant**: $R=8.31446261815324\\,[\\text{J}\\cdot\\text{K}^{-1} \\cdot\\text{mol}^{-1}]$.\n",
    "* **Stefan-Boltzmann constant**: $\\sigma = 5.670374419... \\times 10^{-8} \\,[\\text{W}\\cdot\\text{m}^{-2}\\cdot\\text{K}^{-4}]$.\n",
    "\n",
    "### Definitions\n",
    "* **Thermal conductivity coefficient** $k$, units $[\\text{W}\\cdot\\text{m}^{-1}\\cdot\\text{K}^{-1}]$.\n",
    "    - *Wood:* $0.059\\,[\\text{W}\\cdot\\text{m}^{-1}\\cdot\\text{K}^{-1}]$ for maple or oak to $1.17\\,[\\text{W}\\cdot\\text{m}^{-1}\\cdot\\text{K}^{-1}]$ for sawdust.\n",
    "    - *Air:* $0.024\\,[\\text{W}\\cdot\\text{m}^{-1}\\cdot\\text{K}^{-1}]$\n",
    "* **Optical path length for radiation through the substance** $\\delta$, units $[\\text{m}]$.\n",
    "* **Density** $\\rho$, units $[\\text{kg}\\cdot\\text{m}^{-3}]$.\n",
    "    - *Wood:* Density varies from $420\\,[\\text{kg}\\cdot\\text{m}^{-3}]$ for fir to $640\\,[\\text{kg}\\cdot\\text{m}^{-3}]$ for yellow pine. \n",
    "    - *Air:* At atmospheric pressure and ambient temperature $\\rho=1.1774\\,[\\text{kg}\\cdot\\text{m}^{-3}]$.\n",
    "* **Specific heat** $C$, units $[\\text{m}^2\\cdot\\text{K}^{-1}\\cdot\\text{s}^{-2}]$. \n",
    "    - *Wood:* $2400\\,[\\text{m}^2\\cdot\\text{K}^{-1}\\cdot\\text{s}^{-2}]$ for maple to $2800\\,[\\text{m}^2\\cdot\\text{K}^{-1}\\cdot\\text{s}^{-2}]$ for yellow pine.\n",
    "    - *Air:* $1005.7\\,[\\text{m}^2\\cdot\\text{K}^{-1}\\cdot\\text{s}^{-2}]$\n",
    "* **Natural convection coefficient** $h$, units $[\\text{W}\\cdot\\text{m}^{-2}\\cdot\\text{K}^{-1}]$.\n",
    "* **Activation Energy** $E_A$, units $[\\text{J}\\cdot\\text{mol}^{-1}]$. \n",
    "    - Typical values $E_A\\approx 83680\\,[\\text{J}\\cdot\\text{mol}^{-1}]$.\n",
    "* **Heat of combustion** $H$, units $[\\text{k}\\text{J}\\cdot\\text{kg}^{-1}]$.\n",
    "    - For cellulose $H=66525.6\\,[\\text{k}\\text{J}\\cdot\\text{kg}^{-1}]$.\n",
    "    - Realistic cases may consider smaller values because there are other components in fuel with lower heats of combustion.\n",
    "* **Pre-exponential factor** $A$, units $[\\text{s}^{-1}]$. \n",
    "    - Admissible value $A=10^9\\,[\\text{s}^{-1}]$\n",
    "* **Reference temperature** $u_{\\infty}$, units $[\\text{K}]$. \n",
    "    - Typical value $u_{\\infty}=300\\,[\\text{K}]$\n",
    "* **Phase change temperature**, units $[\\text{K}]$.\n",
    "    - Estimated value $\\bar{u}_{pc}=550\\,[\\text{K}]$.\n",
    "    \n",
    "### Parameters\n",
    "* **Inverse of conductivity** $\\kappa=\\dfrac{4\\sigma\\delta u_{\\infty}^3}{k}$.\n",
    "* **Inverse of activation energy** $\\varepsilon = \\dfrac{R~u_{\\infty}}{E_A}$.\n",
    "* **Reaction Heat** $q=\\dfrac{H\\beta_0}{C\\,u_{\\infty}}$.\n",
    "* **Natural convection** $\\alpha=\\dfrac{t_0h}{\\rho C}$.\n",
    "* **Phase change temperature** $u_{pc}=\\dfrac{\\bar{u}_{pc}-u_{\\infty}}{\\varepsilon u_{\\infty}}$\n",
    "\n",
    "### Characteristics\n",
    "* **Time** $t_0=\\dfrac{\\varepsilon}{qA}\\exp\\left(\\dfrac{1}{\\varepsilon}\\right)\\,[\\text{s}]$.\n",
    "* **Length** $l_0=\\sqrt{\\dfrac{t_0 k}{\\rho C}}\\,[\\text{m}]$."
   ]
  },
  {
   "cell_type": "markdown",
   "metadata": {},
   "source": [
    "#### Used in [3]:\n",
    "\n",
    "##### Physical\n",
    "* $\\rho=10^2\\,[\\text{kg}\\cdot\\text{m}^{-3}]$\n",
    "* $C=10^3\\,[\\text{m}^2\\cdot\\text{K}^{-1}\\cdot\\text{s}^{-2}]$\n",
    "* $k=1\\,[\\text{W}\\cdot\\text{m}^{-1}\\cdot\\text{K}^{-1}]$\n",
    "* $H=66525.6\\,[\\text{k}\\text{J}\\cdot\\text{kg}^{-1}]$\n",
    "* $u_{\\infty}=300\\,[\\text{K}]$\n",
    "* $\\bar{u}_{pc}=550\\,[\\text{K}]$\n",
    "* $E_A\\approx 83680\\,[\\text{J}\\cdot\\text{mol}^{-1}]$\n",
    "* $t_0=8987\\,[\\text{s}]$\n",
    "* $l_0=0.3\\,[\\text{m}]$\n",
    "\n",
    "##### Non-dimensional\n",
    "* $\\bar{\\kappa}=0.1$\n",
    "* $\\varepsilon \\approx 0.03$\n",
    "* $q=1$\n",
    "* $\\alpha=10^{-3}$\n",
    "\n",
    "Using this values, we may estimate a constant $\\kappa$ to replace $K(u)$, $K(u)=\\bar{\\kappa}\\,(1 + \\varepsilon\\, u)^3 + 1=0.1\\,(1+0.03\\cdot 300)^3+1\\approx 101$. "
   ]
  },
  {
   "cell_type": "code",
   "execution_count": 2,
   "metadata": {},
   "outputs": [
    {
     "data": {
      "application/vnd.jupyter.widget-view+json": {
       "model_id": "9012fc6e471c4b20b8f6967fa2d81d0a",
       "version_major": 2,
       "version_minor": 0
      },
      "text/plain": [
       "interactive(children=(FloatText(value=1.0, description='$k$'), FloatText(value=0.01632918494453172, descriptio…"
      ]
     },
     "metadata": {},
     "output_type": "display_data"
    }
   ],
   "source": [
    "widget_params_ = widgets.interact_manual(checkParams, k=k_w, delta=delta_w, rho=rho_w, \n",
    "                                        C=C_w, h=h_w, E_A=E_A_w, H=H_w, A=A_w, U_inf=U_inf_w, B_0=B_0_w)"
   ]
  },
  {
   "cell_type": "markdown",
   "metadata": {},
   "source": [
    "## Physical parameters"
   ]
  },
  {
   "cell_type": "markdown",
   "metadata": {},
   "source": [
    "Parameters used in our works."
   ]
  },
  {
   "cell_type": "code",
   "execution_count": 3,
   "metadata": {},
   "outputs": [],
   "source": [
    "# Physical parameters for the model\n",
    "physical_parameters = {\n",
    "    'jcc2018': {\n",
    "        'kap': 1e-1, # diffusion coefficient\n",
    "        'eps': 3e-1, # inverse of activation energy\n",
    "        'upc': 3, # u phase change\n",
    "        'q': 1, # reaction heat\n",
    "        'alp': 1e-3, # natural convection,\n",
    "        # Domain\n",
    "        'x_lim': (0, 90), # x-axis domain \n",
    "        'y_lim': (0, 90), # y-axis domain\n",
    "        't_lim': (0, 30), # time domain\n",
    "    },\n",
    "    'jcc2019': {\n",
    "        'kap': 1e-1, # diffusion coefficient\n",
    "        'eps': 3e-1, # inverse of activation energy\n",
    "        'upc': 3, # u phase change\n",
    "        'q': 1, # reaction heat\n",
    "        'alp': 1e-3, # natural convection,\n",
    "        # Domain\n",
    "        'x_lim': (0, 90), # x-axis domain \n",
    "        'y_lim': (0, 90), # y-axis domain\n",
    "        't_lim': (0, 20), # time domain\n",
    "    },\n",
    "    'af2002': {    \n",
    "        'kap': 1e-1, # diffusion coefficient\n",
    "        'eps': 3e-2, # inverse of activation energy\n",
    "        'upc': 0, # u phase change\n",
    "        'q': 1.0, # reaction heat\n",
    "        'alp': 1e-3, # natural convection,\n",
    "        # Domain\n",
    "        'x_lim': (0, 300), # x-axis domain \n",
    "        'y_lim': (0, 300), # y-axis domain\n",
    "        't_lim': (0, 0.2), # time domain\n",
    "        'complete': True\n",
    "    }\n",
    "}"
   ]
  },
  {
   "cell_type": "markdown",
   "metadata": {},
   "source": [
    "## Numerical Parameters\n",
    "\n",
    "### Asension & Ferragut 2002 [3]\n",
    "* Temperature initial condition: \n",
    "\n",
    "\\begin{equation}\n",
    "    u_0(x,y)=3.4\\exp\\left(-\\dfrac{(x-50)^2 + (y-50)^2}{100}\\right)\n",
    "\\end{equation}\n",
    "\n",
    "* Fuel initial condition: \n",
    "\n",
    "\\begin{equation}\n",
    "    \\beta_0(x,y) \\sim \\text{Uniform}((0,1)^2)\n",
    "\\end{equation}\n",
    "\n",
    "* Vector field: \n",
    "\n",
    "\\begin{equation}\n",
    "    \\mathbf{v}(x, y, t) = (300, 300)\n",
    "\\end{equation}\n",
    "\n",
    "### San Martin & Torres 2018 [1]\n",
    "* Temperature initial condition: \n",
    "\n",
    "\\begin{equation}\n",
    "    u_0(x,y)=6\\exp\\left(-\\dfrac{(x-20)^2 + (y-20)^2}{20}\\right)\n",
    "\\end{equation}\n",
    "\n",
    "* Fuel initial condition: \n",
    "\n",
    "\\begin{equation}\n",
    "    \\beta_0(x,y) \\sim \\text{Uniform}((0,1)^2)\n",
    "\\end{equation}\n",
    "\n",
    "* Vector field: \n",
    "\n",
    "\\begin{equation}\n",
    "    \\mathbf{v}(x, y, t) = \\left(\\cos\\left(\\frac{\\pi}{4}\\right), \\sin\\left(\\frac{\\pi}{4}\\right)\\right)\n",
    "\\end{equation}\n",
    "\n",
    "### San Martín & Torres 2019 [2]\n",
    "* Temperature initial condition: \n",
    "\n",
    "\\begin{equation}\n",
    "    u_0(x,y)=7\\exp\\left(-\\dfrac{(x-20)^2 + (y-20)^2}{20}\\right) + 4\\exp\\left(-\\dfrac{(x-80)^2 + (y-70)^2}{20}\\right) + 4\\exp\\left(-\\dfrac{(x-20)^2 + (y-35)^2}{70}\\right)\n",
    "\\end{equation}\n",
    "\n",
    "* Fuel initial condition:\n",
    "\n",
    "\\begin{equation}\n",
    "    \\beta_0(x,y) = 1\n",
    "\\end{equation}\n",
    "\n",
    "* Vector field:\n",
    "\n",
    "\\begin{equation}\n",
    "    \\begin{split}\n",
    "        \\mathbf{w}(x, y, t) &= \\left(\\cos\\left(\\dfrac{\\pi}{4}+0.025 t\\right), \n",
    "            \\sin\\left(\\dfrac{\\pi}{4} + 0.025 t\\right)\\right) \\\\ \n",
    "        T(x,y) &= 1.5\\,\\bigg[3\\exp\\left(\\dfrac{(x-45)^2+ (y-45)^2}{40}\\right) \n",
    "            + 2\\exp\\left(\\dfrac{(x-30)^2+(y-30)^2}{60}\\right) \\\\\n",
    "              &\\quad + 3\\exp\\left(\\dfrac{(x-70)^2 + (y-70)^2}{60}\\right) \n",
    "                + 2\\exp\\left(\\dfrac{(x-20)^2 + (y-70)^2}{70}\\right)\\bigg] \\\\\n",
    "        \\mathbf{v}(x, y, t) &= \\mathbf{w}(x, y, t) \n",
    "            + \\left(\\dfrac{\\partial T(x,y)}{\\partial x}, \\dfrac{\\partial T(x,y)}{\\partial y}\\right)\n",
    "    \\end{split}\n",
    "\\end{equation}"
   ]
  },
  {
   "cell_type": "code",
   "execution_count": 4,
   "metadata": {},
   "outputs": [],
   "source": [
    "solve_fun = {\n",
    "    'af2002': {\n",
    "        'u0': u0_af2002,\n",
    "        'b0': b0_af2002,\n",
    "        'V' : V_af2002\n",
    "    },\n",
    "    'jcc2018': {\n",
    "        'u0': u0_jcc2018,\n",
    "        'b0': b0_af2002,\n",
    "        'V' : V_jcc2018\n",
    "    },\n",
    "    'jcc2019': {\n",
    "        'u0': u0_jcc2019,\n",
    "        'b0': b0_jcc2019,\n",
    "        'V' : V_jcc2019\n",
    "    },\n",
    "}"
   ]
  },
  {
   "cell_type": "code",
   "execution_count": 5,
   "metadata": {},
   "outputs": [],
   "source": [
    "def simulation(experiment, space_method, Nx, Ny, acc, time_method, Nt):\n",
    "    wildfire_ = wildfire.Fire(**physical_parameters[experiment])\n",
    "    u0 = solve_fun[experiment]['u0']\n",
    "    b0 = solve_fun[experiment]['b0']\n",
    "    V  = solve_fun[experiment]['V']\n",
    "    t, X, Y, U, B = wildfire_.solvePDE(Nx, Ny, Nt, u0, b0, V, space_method, time_method, last=False, acc=acc)\n",
    "    time_steps_sl = widgets.IntSlider(value=0, min=0, max=Nt, step=1, continuous_update=False)\n",
    "    # PHYSICAL VALUES\n",
    "    t0 = 8987#11067.041552426204\n",
    "    l0 = 0.3#0.33267163318242515\n",
    "    U = wildfire_.getTemperature(U)\n",
    "    B = wildfire_.getFuel(B)\n",
    "    V = wildfire_.getV(V, l0, t0)\n",
    "    X, Y = wildfire_.getSpace(X, Y, l0)\n",
    "    t = wildfire_.getTime(t, t0)\n",
    "    widgets.interact(showSimulation, t=widgets.fixed(t), X=widgets.fixed(X), Y=widgets.fixed(Y),\n",
    "        U=widgets.fixed(U), B=widgets.fixed(B), V=widgets.fixed(V), k=time_steps_sl)"
   ]
  },
  {
   "cell_type": "code",
   "execution_count": 6,
   "metadata": {
    "scrolled": false
   },
   "outputs": [
    {
     "data": {
      "application/vnd.jupyter.widget-view+json": {
       "model_id": "c0c189b2542f454fb98f7377722825bd",
       "version_major": 2,
       "version_minor": 0
      },
      "text/plain": [
       "interactive(children=(Dropdown(description='Experiment', index=1, options=(('Asensio & Ferragut 2002', 'af2002…"
      ]
     },
     "metadata": {},
     "output_type": "display_data"
    }
   ],
   "source": [
    "widget_ = widgets.interact_manual(simulation, experiment=experiment_dp, space_method=space_method_dp, \n",
    "    Nx=space_nx_text, Ny=space_ny_text, acc=space_acc_dp, \n",
    "    time_method=time_method_dp_2, Nt=time_nt_text)"
   ]
  },
  {
   "cell_type": "markdown",
   "metadata": {},
   "source": [
    "# References\n",
    "\n",
    "* [1] San Martín, D., & Torres, C. E. (2018). Ngen-Kütral: Toward an Open Source Framework for Chilean Wildfire Spreading. In 2018 37th International Conference of the Chilean Computer Science Society (SCCC) (pp. 1–8). https://doi.org/10.1109/SCCC.2018.8705159\n",
    "* [2] San Martín, D., & Torres, C. E. (2019). Exploring a Spectral Numerical Algorithm for Solving a Wildfire Mathematical Model. In 2019 38th International Conference of the Chilean Computer Science Society (SCCC) (pp. 1–7). https://doi.org/10.1109/SCCC49216.2019.8966412\n",
    "* [3] Asensio, M. I., & Ferragut, L. (2002). On a wildland fire model with radiation. International Journal for Numerical Methods in Engineering, 54(1), 137-157. https://doi.org/10.1002/nme.420\n",
    "* [4] Weber, R. O. (1991). Toward a comprehensive wildfire spread model. International Journal of Wildland Fire, 1(4), 245–248. https://doi.org/10.1071/WF9910245\n",
    "* [5] Eberle, S., Freeden, W., & Matthes, U. (2015). Forest fire spreading. In Freeden Willi, M. Z. and Nashed, & and Sonar Thomas (Eds.), Handbook of Geomathematics: Second Edition (pp. 1349–1385). Berlin, Heidelberg: Springer Berlin Heidelberg. https://doi.org/10.1007/978-3-642-54551-1_70"
   ]
  }
 ],
 "metadata": {
  "kernelspec": {
   "display_name": "Python 3.7.7 64-bit ('cc': conda)",
   "language": "python",
   "name": "python37764bitcccondaf9be1bff0edc45b89bc5baae44dcd3f4"
  },
  "language_info": {
   "codemirror_mode": {
    "name": "ipython",
    "version": 3
   },
   "file_extension": ".py",
   "mimetype": "text/x-python",
   "name": "python",
   "nbconvert_exporter": "python",
   "pygments_lexer": "ipython3",
   "version": "3.7.7"
  }
 },
 "nbformat": 4,
 "nbformat_minor": 2
}
