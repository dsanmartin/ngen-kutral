{
 "cells": [
  {
   "cell_type": "markdown",
   "metadata": {},
   "source": [
    "# Asensio & Ferragut 2002 experiment\n",
    "\n",
    "This notebook implements experiment of [1] using ```ngen-kutral``` framework."
   ]
  },
  {
   "cell_type": "code",
   "execution_count": 1,
   "metadata": {},
   "outputs": [],
   "source": [
    "import numpy as np\n",
    "import wildfire\n",
    "from wildfire.utils.functions import G\n",
    "from wildfire.utils import plots\n",
    "import ipywidgets as widgets"
   ]
  },
  {
   "cell_type": "markdown",
   "metadata": {},
   "source": [
    "## Physical parameters\n",
    "\n"
   ]
  },
  {
   "cell_type": "code",
   "execution_count": 2,
   "metadata": {},
   "outputs": [],
   "source": [
    "# Physical arameters for the model\n",
    "physical_parameters = {    \n",
    "    'kap': 1e-1, # diffusion coefficient\n",
    "    'eps': 3e-1, # inverse of activation energy\n",
    "    'upc': 3, # u phase change\n",
    "    'q': 1, # reaction heat\n",
    "    'alp': 1e-3, # natural convection,\n",
    "    # Domain\n",
    "    'x_lim': (0, 90), # x-axis domain \n",
    "    'y_lim': (0, 90), # y-axis domain\n",
    "    't_lim': (0, 30) # time domain\n",
    "}"
   ]
  },
  {
   "cell_type": "markdown",
   "metadata": {},
   "source": [
    "## Create Wildfire "
   ]
  },
  {
   "cell_type": "code",
   "execution_count": 3,
   "metadata": {},
   "outputs": [],
   "source": [
    "wildfire_ = wildfire.Fire(**physical_parameters)"
   ]
  },
  {
   "cell_type": "markdown",
   "metadata": {},
   "source": [
    "## Numerical Parameters\n",
    "\n",
    "* Temperature initial condition: $u_0(x,y)=6\\exp(-((x-20)^2 + (y-20)^2) / 20)$\n",
    "* Fuel initial condition: $\\beta_0(x,y) \\sim \\text{Uniform}(0,1)$\n",
    "* Wind + topography: $\\mathbf{v}(x, y, t) = (\\cos(\\pi / 4), \\sin(\\pi /4))$"
   ]
  },
  {
   "cell_type": "code",
   "execution_count": 4,
   "metadata": {},
   "outputs": [],
   "source": [
    "# Temperature initial condition\n",
    "u0 = lambda x, y: 6 * G(x-20, y-20, 20)\n",
    "\n",
    "# Fuel initial condition\n",
    "def b0(x, y):\n",
    "  np.random.seed(666)\n",
    "  br = lambda x, y: np.round(np.random.uniform(size=(x.shape)), decimals=2)\n",
    "  B = br(x, y)\n",
    "  x_rows, x_cols = x.shape\n",
    "  y_rows, y_cols = y.shape\n",
    "  B[0,:] = np.zeros(x_cols)\n",
    "  B[-1,:] = np.zeros(x_cols)\n",
    "  B[:,0] = np.zeros(y_rows)\n",
    "  B[:,-1] = np.zeros(y_rows)\n",
    "  return B\n",
    "\n",
    "# Wind effect\n",
    "gamma = 1\n",
    "w1 = lambda x, y, t: gamma * np.cos(np.pi/4 + x * 0)\n",
    "w2 = lambda x, y, t: gamma * np.sin(np.pi/4 + x * 0)\n",
    "\n",
    "V = (w1, w2)"
   ]
  },
  {
   "cell_type": "markdown",
   "metadata": {},
   "source": [
    "### Widgets"
   ]
  },
  {
   "cell_type": "code",
   "execution_count": 5,
   "metadata": {},
   "outputs": [],
   "source": [
    "# Widget to select space method\n",
    "space_method_dp = widgets.Dropdown(\n",
    "    options=[('Finite Difference', 'fd'), ('Fast Fourier Transform', 'fft')], \n",
    "    value='fd', \n",
    "    description=\"Space Method\"\n",
    ")\n",
    "\n",
    "# Widget to define number of x nodes\n",
    "space_nx_text = widgets.BoundedIntText(\n",
    "    value=128,\n",
    "    min=64,\n",
    "    max=256,\n",
    "    step=1,\n",
    "    description=r\"$N_x$:\",\n",
    "    disabled=False\n",
    ")\n",
    "\n",
    "# Widget to define number of y nodes\n",
    "space_ny_text = widgets.BoundedIntText(\n",
    "    value=128,\n",
    "    min=64,\n",
    "    max=256,\n",
    "    step=1,\n",
    "    description=r\"$N_y$:\",\n",
    "    disabled=False\n",
    ")\n",
    "\n",
    "# Widget to select time method\n",
    "time_method_dp = widgets.Dropdown(\n",
    "    options=[('Euler Method', 'Euler'), ('Runge-Kutta of 4th order', 'RK4')], \n",
    "    value='RK4', \n",
    "    description=\"Time Method\"\n",
    ")\n",
    "\n",
    "# Widget to define number of t nodes\n",
    "time_nt_text = widgets.BoundedIntText(\n",
    "    value=100,\n",
    "    min=100,\n",
    "    max=1000,\n",
    "    step=1,\n",
    "    description=r\"$N_t$:\",\n",
    "    disabled=False\n",
    ")\n",
    "\n",
    "# Checkbox to select last approximation\n",
    "time_last_cb = widgets.Checkbox(\n",
    "        value=False,\n",
    "        description='Last approximation:',\n",
    "        disabled=False,\n",
    "        indent=False\n",
    ")\n",
    "out = widgets.Output()"
   ]
  },
  {
   "cell_type": "code",
   "execution_count": 6,
   "metadata": {},
   "outputs": [],
   "source": [
    "def showSimulation(t, X, Y, U, B, V, k=0):\n",
    "    plots.UBs(k, t, X, Y, U, B, V)"
   ]
  },
  {
   "cell_type": "code",
   "execution_count": 7,
   "metadata": {},
   "outputs": [],
   "source": [
    "def simulation(space_method, Nx, Ny, time_method, Nt):\n",
    "    t, X, Y, U, B = wildfire_.solvePDE(Nx, Ny, Nt, u0, b0, V, space_method, time_method, last=False)\n",
    "    time_steps_sl = widgets.IntSlider(value=0, min=0, max=Nt, step=1, continuous_update=False)\n",
    "    widgets.interact(showSimulation, t=widgets.fixed(t), X=widgets.fixed(X), Y=widgets.fixed(Y),\n",
    "        U=widgets.fixed(U), B=widgets.fixed(B), V=widgets.fixed(V), k=time_steps_sl)"
   ]
  },
  {
   "cell_type": "code",
   "execution_count": 9,
   "metadata": {},
   "outputs": [
    {
     "data": {
      "application/vnd.jupyter.widget-view+json": {
       "model_id": "b285c585d30c4bdca8c450594f814c3e",
       "version_major": 2,
       "version_minor": 0
      },
      "text/plain": [
       "interactive(children=(Dropdown(description='Space Method', options=(('Finite Difference', 'fd'), ('Fast Fourie…"
      ]
     },
     "metadata": {},
     "output_type": "display_data"
    }
   ],
   "source": [
    "widget_ = widgets.interact_manual(simulation, space_method=space_method_dp,\n",
    "    Nx=space_nx_text, Ny=space_ny_text, time_method=time_method_dp, Nt=time_nt_text)"
   ]
  },
  {
   "cell_type": "code",
   "execution_count": 10,
   "metadata": {},
   "outputs": [],
   "source": [
    "#widget_"
   ]
  },
  {
   "cell_type": "code",
   "execution_count": 13,
   "metadata": {},
   "outputs": [
    {
     "data": {
      "text/plain": [
       "\"\\nspace_box = widgets.VBox(widget_.children[:3])\\ntime_box  = widgets.VBox(widget_.children[3:5])\\n\\n# defining a list with the contents of our windows\\nchildren = [space_box, time_box]\\n# initializing a tab\\ntab = widgets.Tab()\\n# setting the tab windows \\ntab.children = children\\n# changing the title of the first and second window\\ntab.set_title(0, 'Space parameters')\\ntab.set_title(1, 'Time parameters')\\nui = widgets.VBox([tab])\\n\\naccordian = widgets.Accordion(children=[ui])\\naccordian.set_title(0, 'Numerical Parameters')\\nout = widget_.children[-1]\\nUI = widgets.VBox([accordian, out])\\ndisplay(UI)\\n\""
      ]
     },
     "execution_count": 13,
     "metadata": {},
     "output_type": "execute_result"
    }
   ],
   "source": [
    "# TODO: Make a button\n",
    "\"\"\"\n",
    "space_box = widgets.VBox(widget_.children[:3])\n",
    "time_box  = widgets.VBox(widget_.children[3:5])\n",
    "\n",
    "# defining a list with the contents of our windows\n",
    "children = [space_box, time_box]\n",
    "# initializing a tab\n",
    "tab = widgets.Tab()\n",
    "# setting the tab windows \n",
    "tab.children = children\n",
    "# changing the title of the first and second window\n",
    "tab.set_title(0, 'Space parameters')\n",
    "tab.set_title(1, 'Time parameters')\n",
    "ui = widgets.VBox([tab])\n",
    "\n",
    "accordian = widgets.Accordion(children=[ui])\n",
    "accordian.set_title(0, 'Numerical Parameters')\n",
    "out = widget_.children[-1]\n",
    "UI = widgets.VBox([accordian, out])\n",
    "display(UI)\n",
    "\"\"\""
   ]
  },
  {
   "cell_type": "markdown",
   "metadata": {},
   "source": [
    "# References\n",
    "\n",
    "* [1] Asensio, M. I., & Ferragut, L. (2002). On a wildland fire model with radiation. International Journal for Numerical Methods in Engineering, 54(1), 137-157. https://doi.org/10.1002/nme.420"
   ]
  }
 ],
 "metadata": {
  "kernelspec": {
   "display_name": "Python 3.7.7 64-bit ('cc': conda)",
   "language": "python",
   "name": "python37764bitcccondaf9be1bff0edc45b89bc5baae44dcd3f4"
  },
  "language_info": {
   "codemirror_mode": {
    "name": "ipython",
    "version": 3
   },
   "file_extension": ".py",
   "mimetype": "text/x-python",
   "name": "python",
   "nbconvert_exporter": "python",
   "pygments_lexer": "ipython3",
   "version": "3.7.7"
  }
 },
 "nbformat": 4,
 "nbformat_minor": 2
}
